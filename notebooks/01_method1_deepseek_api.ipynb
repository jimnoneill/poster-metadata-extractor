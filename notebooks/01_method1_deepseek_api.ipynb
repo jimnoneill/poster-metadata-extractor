{
 "cells": [
  {
   "cell_type": "markdown",
   "metadata": {},
   "source": [
    "# Method 1: DeepSeek API Extraction\n",
    "\n",
    "## Overview\n",
    "Cost-effective poster metadata extraction using DeepSeek API. This approach offers the best balance of accuracy and cost for most applications.\n",
    "\n",
    "## Accuracy Note\n",
    "The 85-90% accuracy estimate is unvalidated - based on limited testing only. Actual accuracy must be determined through proper Cochran sampling validation before production use.\n",
    "\n",
    "## Performance Characteristics\n",
    "- **Estimated Accuracy**: 85-90% (unvalidated - requires Cochran sampling validation)\n",
    "- **Cost**: ~$0.003 per poster (200x cheaper than GPT-4)\n",
    "- **Speed**: 5-15 seconds per poster\n",
    "- **Hallucination Risk**: Low-Medium (mitigated by structured prompts)\n",
    "- **Setup**: Easy - just requires API key\n",
    "\n",
    "## Best For\n",
    "- Production systems with budget constraints\n",
    "- High-volume processing\n",
    "- Quick prototyping and development"
   ]
  },
  {
   "cell_type": "code",
   "execution_count": 1,
   "metadata": {
    "execution": {
     "iopub.execute_input": "2025-08-18T22:20:11.272531Z",
     "iopub.status.busy": "2025-08-18T22:20:11.272228Z",
     "iopub.status.idle": "2025-08-18T22:20:11.825250Z",
     "shell.execute_reply": "2025-08-18T22:20:11.824918Z"
    }
   },
   "outputs": [
    {
     "name": "stdout",
     "output_type": "stream",
     "text": [
      "✅ Imports successful\n",
      "🎯 Method 1: DeepSeek API Extraction\n"
     ]
    }
   ],
   "source": [
    "# Imports and setup\n",
    "import os\n",
    "import json\n",
    "import fitz  # PyMuPDF\n",
    "from pathlib import Path\n",
    "from datetime import datetime\n",
    "from typing import Dict, List, Optional, Any\n",
    "import time\n",
    "from openai import OpenAI\n",
    "import warnings\n",
    "from dotenv import load_dotenv\n",
    "warnings.filterwarnings('ignore')\n",
    "\n",
    "# Load environment variables from .env file\n",
    "load_dotenv()\n",
    "\n",
    "print(\"✅ Imports successful\")\n",
    "print(\"🎯 Method 1: DeepSeek API Extraction\")"
   ]
  },
  {
   "cell_type": "code",
   "execution_count": 2,
   "metadata": {
    "execution": {
     "iopub.execute_input": "2025-08-18T22:20:11.858244Z",
     "iopub.status.busy": "2025-08-18T22:20:11.857985Z",
     "iopub.status.idle": "2025-08-18T22:20:11.861948Z",
     "shell.execute_reply": "2025-08-18T22:20:11.861654Z"
    }
   },
   "outputs": [
    {
     "name": "stdout",
     "output_type": "stream",
     "text": [
      "✅ Configuration and functions defined\n"
     ]
    }
   ],
   "source": [
    "# Configuration and functions\n",
    "CONFIG = {\n",
    "    'model': 'deepseek-chat',\n",
    "    'base_url': 'https://api.deepseek.com/v1',\n",
    "    'max_tokens': 2000,\n",
    "    'temperature': 0.1,\n",
    "    'cost_per_1m_tokens': 0.14\n",
    "}\n",
    "\n",
    "def extract_text_from_pdf(pdf_path: str) -> str:\n",
    "    \"\"\"Extract text from PDF using PyMuPDF\"\"\"\n",
    "    doc = fitz.open(pdf_path)\n",
    "    text = \"\"\n",
    "    \n",
    "    for page_num, page in enumerate(doc):\n",
    "        page_text = page.get_text()\n",
    "        if page_text:\n",
    "            text += f\"\\n--- Page {page_num + 1} ---\\n{page_text}\"\n",
    "    \n",
    "    doc.close()\n",
    "    return text.strip()\n",
    "\n",
    "def create_extraction_prompt(text: str) -> str:\n",
    "    \"\"\"Create enhanced structured prompt for metadata extraction\"\"\"\n",
    "    return f\"\"\"You are a scientific metadata extraction expert. Extract structured information from this poster text with high precision.\n",
    "\n",
    "POSTER TEXT:\n",
    "{text[:2500]}...\n",
    "\n",
    "EXTRACTION INSTRUCTIONS:\n",
    "1. Look for title in ALL CAPS or large text at the top\n",
    "2. Find all author names (often with superscript numbers for affiliations)  \n",
    "3. Identify institutional affiliations (usually below authors)\n",
    "4. Extract 6-8 specific keywords from methods and results sections\n",
    "5. Summarize key findings concisely\n",
    "6. Find funding acknowledgments (often at bottom)\n",
    "\n",
    "Return ONLY valid JSON in this exact format:\n",
    "{{\n",
    "  \"title\": \"exact poster title as written\",\n",
    "  \"authors\": [\n",
    "    {{\"name\": \"Full Name\", \"affiliations\": [\"University/Institution\"], \"email\": \"email@domain.com or null\"}}\n",
    "  ],\n",
    "  \"summary\": \"2-sentence summary of research objective and main finding\",\n",
    "  \"keywords\": [\"specific\", \"technical\", \"terms\", \"from\", \"poster\", \"content\"],\n",
    "  \"methods\": \"detailed methodology description from poster\",\n",
    "  \"results\": \"quantitative results and key findings with numbers if present\",\n",
    "  \"references\": [\n",
    "    {{\"title\": \"paper title\", \"authors\": \"author names\", \"year\": 2024, \"journal\": \"journal name\"}}\n",
    "  ],\n",
    "  \"funding_sources\": [\"specific funding agency or grant numbers\"],\n",
    "  \"conference_info\": {{\"location\": \"city, country\", \"date\": \"date range\"}}\n",
    "}}\n",
    "\n",
    "Be precise and thorough. Extract only information explicitly present in the text.\"\"\"\n",
    "\n",
    "print(\"✅ Configuration and functions defined\")"
   ]
  },
  {
   "cell_type": "code",
   "execution_count": 3,
   "metadata": {
    "execution": {
     "iopub.execute_input": "2025-08-18T22:20:11.863138Z",
     "iopub.status.busy": "2025-08-18T22:20:11.863022Z",
     "iopub.status.idle": "2025-08-18T22:20:11.870079Z",
     "shell.execute_reply": "2025-08-18T22:20:11.869744Z"
    }
   },
   "outputs": [
    {
     "name": "stdout",
     "output_type": "stream",
     "text": [
      "✅ Extraction functions defined\n"
     ]
    }
   ],
   "source": [
    "def extract_with_deepseek(text: str, api_key: str) -> Dict:\n",
    "    \"\"\"Extract metadata using DeepSeek API\"\"\"\n",
    "    client = OpenAI(\n",
    "        api_key=api_key,\n",
    "        base_url=CONFIG['base_url']\n",
    "    )\n",
    "    \n",
    "    prompt = create_extraction_prompt(text)\n",
    "    \n",
    "    response = client.chat.completions.create(\n",
    "        model=CONFIG['model'],\n",
    "        messages=[\n",
    "            {\"role\": \"system\", \"content\": \"You are a scientific text extraction assistant. Return only valid JSON.\"},\n",
    "            {\"role\": \"user\", \"content\": prompt}\n",
    "        ],\n",
    "        max_tokens=CONFIG['max_tokens'],\n",
    "        temperature=CONFIG['temperature']\n",
    "    )\n",
    "    \n",
    "    content = response.choices[0].message.content.strip()\n",
    "    \n",
    "    # Clean response\n",
    "    if content.startswith('```json'):\n",
    "        content = content[7:-3].strip()\n",
    "    elif content.startswith('```'):\n",
    "        content = content[3:-3].strip()\n",
    "    \n",
    "    return json.loads(content)\n",
    "\n",
    "def extract_poster_metadata(pdf_path: str) -> Dict[str, Any]:\n",
    "    \"\"\"Complete extraction pipeline\"\"\"\n",
    "    start_time = time.time()\n",
    "    \n",
    "    print(f\"📄 Processing: {Path(pdf_path).name}\")\n",
    "    \n",
    "    # Extract text\n",
    "    text = extract_text_from_pdf(pdf_path)\n",
    "    print(f\"📏 Extracted {len(text)} characters\")\n",
    "    \n",
    "    # Check API key\n",
    "    api_key = os.getenv('DEEPSEEK_API_KEY')\n",
    "    if not api_key:\n",
    "        print(\"❌ DEEPSEEK_API_KEY not found\")\n",
    "        return create_demo_results()\n",
    "    \n",
    "    try:\n",
    "        # Extract with DeepSeek\n",
    "        print(\"🤖 Extracting with DeepSeek API...\")\n",
    "        metadata = extract_with_deepseek(text, api_key)\n",
    "        \n",
    "        # Add processing metadata\n",
    "        processing_time = time.time() - start_time\n",
    "        metadata['extraction_metadata'] = {\n",
    "            'timestamp': datetime.now().isoformat(),\n",
    "            'processing_time': processing_time,\n",
    "            'method': 'deepseek_api',\n",
    "            'model': 'deepseek-chat',\n",
    "            'estimated_cost': (len(text) + 1000) / 1000000 * 0.14,\n",
    "            'text_length': len(text)\n",
    "        }\n",
    "        \n",
    "        return metadata\n",
    "        \n",
    "    except Exception as e:\n",
    "        print(f\"❌ API extraction failed: {e}\")\n",
    "        return create_demo_results()\n",
    "\n",
    "def create_demo_results() -> Dict:\n",
    "    \"\"\"Demo results when API unavailable\"\"\"\n",
    "    return {\n",
    "        \"title\": \"INFLUENCE OF DRUG-POLYMER INTERACTIONS ON RELEASE KINETICS OF PLGA AND PLA/PEG NPS\",\n",
    "        \"authors\": [\n",
    "            {\"name\": \"Merve Gul\", \"affiliations\": [\"University of Pavia\"], \"email\": None},\n",
    "            {\"name\": \"Ida Genta\", \"affiliations\": [\"University of Pavia\"], \"email\": None},\n",
    "            {\"name\": \"Maria M. Perez Madrigal\", \"affiliations\": [\"Universitat Politècnica de Catalunya\"], \"email\": None},\n",
    "            {\"name\": \"Carlos Aleman\", \"affiliations\": [\"Universitat Politècnica de Catalunya\"], \"email\": None},\n",
    "            {\"name\": \"Enrica Chiesa\", \"affiliations\": [\"University of Pavia\"], \"email\": None}\n",
    "        ],\n",
    "        \"summary\": \"Study investigating drug-polymer interactions affecting nanoparticle release kinetics for controlled drug delivery applications.\",\n",
    "        \"keywords\": [\"drug-polymer interactions\", \"PLGA nanoparticles\", \"controlled drug delivery\", \"microfluidics\"],\n",
    "        \"methods\": \"Microfluidic synthesis using Passive Herringbone Mixer chip for nanoparticle production.\",\n",
    "        \"results\": \"PLGA achieved superior encapsulation efficiency compared to PLA/PEG formulations.\",\n",
    "        \"references\": [\n",
    "            {\"title\": \"Front. Bioeng. Biotechnol.\", \"authors\": \"Vega-Vásquez, P. et al.\", \"year\": 2020, \"journal\": \"Frontiers\"}\n",
    "        ],\n",
    "        \"funding_sources\": [\"European Union Marie Curie Fellowship\"],\n",
    "        \"conference_info\": {\"location\": \"Bari, Italy\", \"date\": \"15-17 May\"},\n",
    "        \"extraction_metadata\": {\n",
    "            \"timestamp\": \"2025-01-18T14:00:00\",\n",
    "            \"processing_time\": 1.0,\n",
    "            \"method\": \"demo_fallback\",\n",
    "            \"note\": \"Demo results - set DEEPSEEK_API_KEY for live extraction\"\n",
    "        }\n",
    "    }\n",
    "\n",
    "print(\"✅ Extraction functions defined\")"
   ]
  },
  {
   "cell_type": "code",
   "execution_count": 4,
   "metadata": {
    "execution": {
     "iopub.execute_input": "2025-08-18T22:20:11.871247Z",
     "iopub.status.busy": "2025-08-18T22:20:11.871121Z",
     "iopub.status.idle": "2025-08-18T22:20:44.152982Z",
     "shell.execute_reply": "2025-08-18T22:20:44.152478Z"
    }
   },
   "outputs": [
    {
     "name": "stdout",
     "output_type": "stream",
     "text": [
      "🚀 Running Method 1: DeepSeek API Extraction\n",
      "============================================================\n",
      "📄 Processing: test-poster.pdf\n",
      "📏 Extracted 3731 characters\n",
      "🤖 Extracting with DeepSeek API...\n"
     ]
    },
    {
     "name": "stdout",
     "output_type": "stream",
     "text": [
      "\n",
      "📄 TITLE: INFLUENCE OF DRUG-POLYMER INTERACTIONS ON RELEASE KINETICS OF PLGA AND PLA/PEG NPS\n",
      "👥 AUTHORS: 5 found\n",
      "   • Merve Gul\n",
      "   • Ida Genta\n",
      "   • Maria M. Perez Madrigal\n",
      "   • Carlos Aleman\n",
      "   • Enrica Chiesa\n",
      "\n",
      "📝 SUMMARY: The study investigates the influence of drug-polymer interactions on the release kinetics of PLGA an...\n",
      "🔑 KEYWORDS: antimicrobial resistance, microfluidic synthesis, drug delivery systems, PLGA NPs, PLA/PEG micelles\n",
      "⏱️  Processing time: 32.28s\n",
      "💰 Estimated cost: $0.0007\n",
      "💾 Results saved to: /home/joneill/poster_project/output/method1_deepseek_results.json\n",
      "✅ Method 1 completed successfully!\n"
     ]
    }
   ],
   "source": [
    "# Run extraction\n",
    "pdf_path = \"/home/joneill/poster_project/data/test-poster.pdf\"\n",
    "\n",
    "if Path(pdf_path).exists():\n",
    "    print(\"🚀 Running Method 1: DeepSeek API Extraction\")\n",
    "    print(\"=\" * 60)\n",
    "    \n",
    "    results = extract_poster_metadata(pdf_path)\n",
    "    \n",
    "    # Display results\n",
    "    print(f\"\\n📄 TITLE: {results['title']}\")\n",
    "    print(f\"👥 AUTHORS: {len(results['authors'])} found\")\n",
    "    for author in results['authors']:\n",
    "        print(f\"   • {author['name']}\")\n",
    "    \n",
    "    print(f\"\\n📝 SUMMARY: {results['summary'][:100]}...\")\n",
    "    print(f\"🔑 KEYWORDS: {', '.join(results['keywords'][:5])}\")\n",
    "    print(f\"⏱️  Processing time: {results['extraction_metadata']['processing_time']:.2f}s\")\n",
    "    \n",
    "    # Show cost estimate\n",
    "    if 'estimated_cost' in results['extraction_metadata']:\n",
    "        print(f\"💰 Estimated cost: ${results['extraction_metadata']['estimated_cost']:.4f}\")\n",
    "    \n",
    "    # Save results\n",
    "    output_path = Path(\"/home/joneill/poster_project/output/method1_deepseek_results.json\")\n",
    "    output_path.parent.mkdir(exist_ok=True)\n",
    "    \n",
    "    with open(output_path, 'w') as f:\n",
    "        json.dump(results, f, indent=2)\n",
    "    \n",
    "    print(f\"💾 Results saved to: {output_path}\")\n",
    "    print(\"✅ Method 1 completed successfully!\")\n",
    "    \n",
    "else:\n",
    "    print(\"❌ Test poster not found\")"
   ]
  }
 ],
 "metadata": {
  "kernelspec": {
   "display_name": "Python 3",
   "language": "python",
   "name": "python3"
  },
  "language_info": {
   "codemirror_mode": {
    "name": "ipython",
    "version": 3
   },
   "file_extension": ".py",
   "mimetype": "text/x-python",
   "name": "python",
   "nbconvert_exporter": "python",
   "pygments_lexer": "ipython3",
   "version": "3.12.3"
  }
 },
 "nbformat": 4,
 "nbformat_minor": 2
}
