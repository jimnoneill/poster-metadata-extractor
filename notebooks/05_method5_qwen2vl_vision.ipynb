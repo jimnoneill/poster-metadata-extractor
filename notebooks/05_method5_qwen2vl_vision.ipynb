{
 "cells": [
  {
   "cell_type": "markdown",
   "metadata": {},
   "source": [
    "# Method 5: Qwen2-VL Vision Direct Extraction\n",
    "\n",
    "**Genuine Vision-Based Processing for Scientific Posters**\n",
    "\n",
    "This notebook uses **Qwen2-VL-2B-Instruct** for direct image analysis without any text extraction or manual parsing.\n",
    "\n",
    "## 🎯 Vision Approach:\n",
    "- **Direct Image Processing**: Analyzes poster visually like humans do\n",
    "- **Same Prompt Style**: Uses Mistral-style direct instructions  \n",
    "- **No Manual Parsing**: Genuine JSON output from vision model\n",
    "- **No Text Extraction**: Pure vision-based processing\n",
    "\n",
    "## 🏆 Results: 5/5 Authors found, ~43 seconds processing\n"
   ]
  },
  {
   "cell_type": "code",
   "execution_count": 1,
   "metadata": {
    "execution": {
     "iopub.execute_input": "2025-08-30T22:05:33.897099Z",
     "iopub.status.busy": "2025-08-30T22:05:33.896782Z",
     "iopub.status.idle": "2025-08-30T22:05:39.709587Z",
     "shell.execute_reply": "2025-08-30T22:05:39.709135Z"
    }
   },
   "outputs": [
    {
     "name": "stderr",
     "output_type": "stream",
     "text": [
      "2025-08-30 15:05:38.013674: E external/local_xla/xla/stream_executor/cuda/cuda_fft.cc:467] Unable to register cuFFT factory: Attempting to register factory for plugin cuFFT when one has already been registered\n",
      "WARNING: All log messages before absl::InitializeLog() is called are written to STDERR\n",
      "E0000 00:00:1756591538.031901 2719854 cuda_dnn.cc:8579] Unable to register cuDNN factory: Attempting to register factory for plugin cuDNN when one has already been registered\n",
      "E0000 00:00:1756591538.037644 2719854 cuda_blas.cc:1407] Unable to register cuBLAS factory: Attempting to register factory for plugin cuBLAS when one has already been registered\n",
      "W0000 00:00:1756591538.053212 2719854 computation_placer.cc:177] computation placer already registered. Please check linkage and avoid linking the same target more than once.\n",
      "W0000 00:00:1756591538.053233 2719854 computation_placer.cc:177] computation placer already registered. Please check linkage and avoid linking the same target more than once.\n",
      "W0000 00:00:1756591538.053235 2719854 computation_placer.cc:177] computation placer already registered. Please check linkage and avoid linking the same target more than once.\n",
      "W0000 00:00:1756591538.053237 2719854 computation_placer.cc:177] computation placer already registered. Please check linkage and avoid linking the same target more than once.\n",
      "2025-08-30 15:05:38.058052: I tensorflow/core/platform/cpu_feature_guard.cc:210] This TensorFlow binary is optimized to use available CPU instructions in performance-critical operations.\n",
      "To enable the following instructions: AVX2 FMA, in other operations, rebuild TensorFlow with the appropriate compiler flags.\n"
     ]
    },
    {
     "name": "stdout",
     "output_type": "stream",
     "text": [
      "✅ Vision extraction functions loaded\n",
      "🎯 NO manual parsing - genuine vision-based JSON extraction!\n"
     ]
    }
   ],
   "source": [
    "# Load the working vision extraction functions\n",
    "exec(open(\"../src/method5_qwen2vl_vision_direct.py\").read().split(\"if __name__\")[0])\n",
    "\n",
    "print(\"✅ Vision extraction functions loaded\")\n",
    "print(\"🎯 NO manual parsing - genuine vision-based JSON extraction!\")\n"
   ]
  },
  {
   "cell_type": "code",
   "execution_count": 2,
   "metadata": {
    "execution": {
     "iopub.execute_input": "2025-08-30T22:05:39.711311Z",
     "iopub.status.busy": "2025-08-30T22:05:39.710805Z",
     "iopub.status.idle": "2025-08-30T22:06:28.389196Z",
     "shell.execute_reply": "2025-08-30T22:06:28.388660Z"
    }
   },
   "outputs": [
    {
     "name": "stdout",
     "output_type": "stream",
     "text": [
      "🚀 Running Method 5: Qwen2-VL Vision Direct Extraction\n",
      "=================================================================\n",
      "🤖 Loading Qwen2-VL model...\n"
     ]
    },
    {
     "data": {
      "application/vnd.jupyter.widget-view+json": {
       "model_id": "49bf42b556734594a53e5c6659f7d771",
       "version_major": 2,
       "version_minor": 0
      },
      "text/plain": [
       "Loading checkpoint shards:   0%|          | 0/2 [00:00<?, ?it/s]"
      ]
     },
     "metadata": {},
     "output_type": "display_data"
    },
    {
     "name": "stderr",
     "output_type": "stream",
     "text": [
      "Using a slow image processor as `use_fast` is unset and a slow processor was saved with this model. `use_fast=True` will be the default behavior in v4.52, even if the model was saved with a slow processor. This will result in minor differences in outputs. You'll still be able to use a slow processor with `use_fast=False`.\n"
     ]
    },
    {
     "name": "stderr",
     "output_type": "stream",
     "text": [
      "You have video processor config saved in `preprocessor.json` file which is deprecated. Video processor configs should be saved in their own `video_preprocessor.json` file. You can rename the file or load and save the processor back which renames it automatically. Loading from `preprocessor.json` will be removed in v5.0.\n"
     ]
    },
    {
     "name": "stdout",
     "output_type": "stream",
     "text": [
      "✅ Qwen2-VL loaded successfully\n",
      "📄 Converting PDF to images (DPI: 200)...\n"
     ]
    },
    {
     "name": "stdout",
     "output_type": "stream",
     "text": [
      "   Page 1: 5512x7874 pixels\n",
      "📸 Processing image: 5512x7874 pixels\n",
      "🔄 Generating response with Qwen2-VL...\n"
     ]
    },
    {
     "name": "stderr",
     "output_type": "stream",
     "text": [
      "The following generation flags are not valid and may be ignored: ['temperature', 'top_p', 'top_k']. Set `TRANSFORMERS_VERBOSITY=info` for more details.\n"
     ]
    },
    {
     "name": "stdout",
     "output_type": "stream",
     "text": [
      "📝 Raw response length: 2845 chars\n",
      "\n",
      "📊 EXTRACTION RESULTS:\n",
      "==================================================\n",
      "📄 TITLE: INFLUENCE OF DRUG-POLYMER INTERACTIONS ON RELEASE KINETICS OF PLGA AND PLA/PEG NPS\n",
      "👥 AUTHORS: 5 found\n",
      "   1. Merve Gul - ['Department of Drug Sciences, University of Pavia']\n",
      "   2. Ida Genta - ['Department of Chemical Engineering, Universitat Politècnica de Catalunya (UPC-EEBE)']\n",
      "   3. Maria M. Perez Madrigal - ['Barcelona Research Center for Multiscale Science and Engineering, EEBE, Universitat Politècnica de Catalunya']\n",
      "   4. Carlos Aleman - ['Barcelona Research Center for Multiscale Science and Engineering, EEBE, Universitat Politècnica de Catalunya']\n",
      "   5. Enrica Chiesa - ['Barcelona Research Center for Multiscale Science and Engineering, EEBE, Universitat Politècnica de Catalunya']\n",
      "💰 FUNDING: []\n",
      "📚 REFERENCES: 0 found\n",
      "⏱️ Processing time: 42.5 seconds\n",
      "💾 Results saved to: ../output/method5_qwen2vl_vision_results.json\n",
      "✅ Method 5 completed successfully!\n",
      "🎯 Vision approach - processes images without text extraction!\n"
     ]
    }
   ],
   "source": [
    "# Run the genuine vision-based extraction\n",
    "if torch.cuda.is_available():\n",
    "    print(\"🚀 Running Method 5: Qwen2-VL Vision Direct Extraction\")\n",
    "    print(\"=\" * 65)\n",
    "    \n",
    "    # Load model\n",
    "    model, processor = load_qwen2vl_model()\n",
    "    \n",
    "    if model is not None:\n",
    "        # Convert PDF to image\n",
    "        pdf_path = \"../data/test-poster.pdf\"\n",
    "        images = convert_pdf_to_images(pdf_path, dpi=200)\n",
    "        \n",
    "        if images:\n",
    "            # Use first page\n",
    "            image = images[0]\n",
    "            print(f\"📸 Processing image: {image.size[0]}x{image.size[1]} pixels\")\n",
    "            \n",
    "            # Create prompt\n",
    "            prompt = create_direct_vision_prompt()\n",
    "            \n",
    "            # Extract metadata\n",
    "            start_time = time.time()\n",
    "            response = extract_with_qwen2vl(model, processor, image, prompt)\n",
    "            end_time = time.time()\n",
    "            \n",
    "            if response:\n",
    "                # Clean and parse response\n",
    "                results = clean_vision_response(response)\n",
    "                \n",
    "                # Display results\n",
    "                print(\"\\n📊 EXTRACTION RESULTS:\")\n",
    "                print(\"=\" * 50)\n",
    "                print(f\"📄 TITLE: {results.get('title', 'N/A')}\")\n",
    "                print(f\"👥 AUTHORS: {len(results.get('authors', []))} found\")\n",
    "                for i, author in enumerate(results.get('authors', []), 1):\n",
    "                    print(f\"   {i}. {author.get('name', 'N/A')} - {author.get('affiliations', ['N/A'])}\")\n",
    "                \n",
    "                print(f\"💰 FUNDING: {results.get('funding_sources', ['None found'])}\")\n",
    "                print(f\"📚 REFERENCES: {len(results.get('references', []))} found\")\n",
    "                print(f\"⏱️ Processing time: {end_time - start_time:.1f} seconds\")\n",
    "                \n",
    "                # Save results\n",
    "                output_path = \"../output/method5_qwen2vl_vision_results.json\"\n",
    "                os.makedirs(\"../output\", exist_ok=True)\n",
    "                \n",
    "                with open(output_path, 'w') as f:\n",
    "                    json.dump(results, f, indent=2)\n",
    "                \n",
    "                print(f\"💾 Results saved to: {output_path}\")\n",
    "                print(\"✅ Method 5 completed successfully!\")\n",
    "                print(\"🎯 Vision approach - processes images without text extraction!\")\n",
    "                \n",
    "            else:\n",
    "                print(\"❌ No response generated\")\n",
    "        else:\n",
    "            print(\"❌ No images extracted from PDF\")\n",
    "    else:\n",
    "        print(\"❌ Failed to load model\")\n",
    "        \n",
    "else:\n",
    "    print(\"❌ CUDA not available - vision models require GPU\")\n"
   ]
  }
 ],
 "metadata": {
  "language_info": {
   "codemirror_mode": {
    "name": "ipython",
    "version": 3
   },
   "file_extension": ".py",
   "mimetype": "text/x-python",
   "name": "python",
   "nbconvert_exporter": "python",
   "pygments_lexer": "ipython3",
   "version": "3.12.3"
  },
  "widgets": {
   "application/vnd.jupyter.widget-state+json": {
    "state": {
     "0cacd1e2878940d78daa4113c6854a9c": {
      "model_module": "@jupyter-widgets/base",
      "model_module_version": "2.0.0",
      "model_name": "LayoutModel",
      "state": {
       "_model_module": "@jupyter-widgets/base",
       "_model_module_version": "2.0.0",
       "_model_name": "LayoutModel",
       "_view_count": null,
       "_view_module": "@jupyter-widgets/base",
       "_view_module_version": "2.0.0",
       "_view_name": "LayoutView",
       "align_content": null,
       "align_items": null,
       "align_self": null,
       "border_bottom": null,
       "border_left": null,
       "border_right": null,
       "border_top": null,
       "bottom": null,
       "display": null,
       "flex": null,
       "flex_flow": null,
       "grid_area": null,
       "grid_auto_columns": null,
       "grid_auto_flow": null,
       "grid_auto_rows": null,
       "grid_column": null,
       "grid_gap": null,
       "grid_row": null,
       "grid_template_areas": null,
       "grid_template_columns": null,
       "grid_template_rows": null,
       "height": null,
       "justify_content": null,
       "justify_items": null,
       "left": null,
       "margin": null,
       "max_height": null,
       "max_width": null,
       "min_height": null,
       "min_width": null,
       "object_fit": null,
       "object_position": null,
       "order": null,
       "overflow": null,
       "padding": null,
       "right": null,
       "top": null,
       "visibility": null,
       "width": null
      }
     },
     "1b4d409cffc54fb28a6a591ab46a7738": {
      "model_module": "@jupyter-widgets/controls",
      "model_module_version": "2.0.0",
      "model_name": "FloatProgressModel",
      "state": {
       "_dom_classes": [],
       "_model_module": "@jupyter-widgets/controls",
       "_model_module_version": "2.0.0",
       "_model_name": "FloatProgressModel",
       "_view_count": null,
       "_view_module": "@jupyter-widgets/controls",
       "_view_module_version": "2.0.0",
       "_view_name": "ProgressView",
       "bar_style": "success",
       "description": "",
       "description_allow_html": false,
       "layout": "IPY_MODEL_d1ade6c19cac4282a62ad9984100c1fa",
       "max": 2.0,
       "min": 0.0,
       "orientation": "horizontal",
       "style": "IPY_MODEL_c0b1517ed9944242853cb7bd4a234fee",
       "tabbable": null,
       "tooltip": null,
       "value": 2.0
      }
     },
     "3336a76e6b024bc7861afc116d81833b": {
      "model_module": "@jupyter-widgets/controls",
      "model_module_version": "2.0.0",
      "model_name": "HTMLStyleModel",
      "state": {
       "_model_module": "@jupyter-widgets/controls",
       "_model_module_version": "2.0.0",
       "_model_name": "HTMLStyleModel",
       "_view_count": null,
       "_view_module": "@jupyter-widgets/base",
       "_view_module_version": "2.0.0",
       "_view_name": "StyleView",
       "background": null,
       "description_width": "",
       "font_size": null,
       "text_color": null
      }
     },
     "49bf42b556734594a53e5c6659f7d771": {
      "model_module": "@jupyter-widgets/controls",
      "model_module_version": "2.0.0",
      "model_name": "HBoxModel",
      "state": {
       "_dom_classes": [],
       "_model_module": "@jupyter-widgets/controls",
       "_model_module_version": "2.0.0",
       "_model_name": "HBoxModel",
       "_view_count": null,
       "_view_module": "@jupyter-widgets/controls",
       "_view_module_version": "2.0.0",
       "_view_name": "HBoxView",
       "box_style": "",
       "children": [
        "IPY_MODEL_f9659ce4213f404eada57b3f16e7d959",
        "IPY_MODEL_1b4d409cffc54fb28a6a591ab46a7738",
        "IPY_MODEL_aa35a0c732f04b04b158f14cc2ba8da2"
       ],
       "layout": "IPY_MODEL_bd0a578f56044781accdd20c4a90fcad",
       "tabbable": null,
       "tooltip": null
      }
     },
     "aa35a0c732f04b04b158f14cc2ba8da2": {
      "model_module": "@jupyter-widgets/controls",
      "model_module_version": "2.0.0",
      "model_name": "HTMLModel",
      "state": {
       "_dom_classes": [],
       "_model_module": "@jupyter-widgets/controls",
       "_model_module_version": "2.0.0",
       "_model_name": "HTMLModel",
       "_view_count": null,
       "_view_module": "@jupyter-widgets/controls",
       "_view_module_version": "2.0.0",
       "_view_name": "HTMLView",
       "description": "",
       "description_allow_html": false,
       "layout": "IPY_MODEL_f89feb49df2b4eea9241a48d6a8d6ab4",
       "placeholder": "​",
       "style": "IPY_MODEL_d97c53dc09cc450a997fe57a19fd9aa5",
       "tabbable": null,
       "tooltip": null,
       "value": " 2/2 [00:01&lt;00:00,  2.12it/s]"
      }
     },
     "bd0a578f56044781accdd20c4a90fcad": {
      "model_module": "@jupyter-widgets/base",
      "model_module_version": "2.0.0",
      "model_name": "LayoutModel",
      "state": {
       "_model_module": "@jupyter-widgets/base",
       "_model_module_version": "2.0.0",
       "_model_name": "LayoutModel",
       "_view_count": null,
       "_view_module": "@jupyter-widgets/base",
       "_view_module_version": "2.0.0",
       "_view_name": "LayoutView",
       "align_content": null,
       "align_items": null,
       "align_self": null,
       "border_bottom": null,
       "border_left": null,
       "border_right": null,
       "border_top": null,
       "bottom": null,
       "display": null,
       "flex": null,
       "flex_flow": null,
       "grid_area": null,
       "grid_auto_columns": null,
       "grid_auto_flow": null,
       "grid_auto_rows": null,
       "grid_column": null,
       "grid_gap": null,
       "grid_row": null,
       "grid_template_areas": null,
       "grid_template_columns": null,
       "grid_template_rows": null,
       "height": null,
       "justify_content": null,
       "justify_items": null,
       "left": null,
       "margin": null,
       "max_height": null,
       "max_width": null,
       "min_height": null,
       "min_width": null,
       "object_fit": null,
       "object_position": null,
       "order": null,
       "overflow": null,
       "padding": null,
       "right": null,
       "top": null,
       "visibility": null,
       "width": null
      }
     },
     "c0b1517ed9944242853cb7bd4a234fee": {
      "model_module": "@jupyter-widgets/controls",
      "model_module_version": "2.0.0",
      "model_name": "ProgressStyleModel",
      "state": {
       "_model_module": "@jupyter-widgets/controls",
       "_model_module_version": "2.0.0",
       "_model_name": "ProgressStyleModel",
       "_view_count": null,
       "_view_module": "@jupyter-widgets/base",
       "_view_module_version": "2.0.0",
       "_view_name": "StyleView",
       "bar_color": null,
       "description_width": ""
      }
     },
     "d1ade6c19cac4282a62ad9984100c1fa": {
      "model_module": "@jupyter-widgets/base",
      "model_module_version": "2.0.0",
      "model_name": "LayoutModel",
      "state": {
       "_model_module": "@jupyter-widgets/base",
       "_model_module_version": "2.0.0",
       "_model_name": "LayoutModel",
       "_view_count": null,
       "_view_module": "@jupyter-widgets/base",
       "_view_module_version": "2.0.0",
       "_view_name": "LayoutView",
       "align_content": null,
       "align_items": null,
       "align_self": null,
       "border_bottom": null,
       "border_left": null,
       "border_right": null,
       "border_top": null,
       "bottom": null,
       "display": null,
       "flex": null,
       "flex_flow": null,
       "grid_area": null,
       "grid_auto_columns": null,
       "grid_auto_flow": null,
       "grid_auto_rows": null,
       "grid_column": null,
       "grid_gap": null,
       "grid_row": null,
       "grid_template_areas": null,
       "grid_template_columns": null,
       "grid_template_rows": null,
       "height": null,
       "justify_content": null,
       "justify_items": null,
       "left": null,
       "margin": null,
       "max_height": null,
       "max_width": null,
       "min_height": null,
       "min_width": null,
       "object_fit": null,
       "object_position": null,
       "order": null,
       "overflow": null,
       "padding": null,
       "right": null,
       "top": null,
       "visibility": null,
       "width": null
      }
     },
     "d97c53dc09cc450a997fe57a19fd9aa5": {
      "model_module": "@jupyter-widgets/controls",
      "model_module_version": "2.0.0",
      "model_name": "HTMLStyleModel",
      "state": {
       "_model_module": "@jupyter-widgets/controls",
       "_model_module_version": "2.0.0",
       "_model_name": "HTMLStyleModel",
       "_view_count": null,
       "_view_module": "@jupyter-widgets/base",
       "_view_module_version": "2.0.0",
       "_view_name": "StyleView",
       "background": null,
       "description_width": "",
       "font_size": null,
       "text_color": null
      }
     },
     "f89feb49df2b4eea9241a48d6a8d6ab4": {
      "model_module": "@jupyter-widgets/base",
      "model_module_version": "2.0.0",
      "model_name": "LayoutModel",
      "state": {
       "_model_module": "@jupyter-widgets/base",
       "_model_module_version": "2.0.0",
       "_model_name": "LayoutModel",
       "_view_count": null,
       "_view_module": "@jupyter-widgets/base",
       "_view_module_version": "2.0.0",
       "_view_name": "LayoutView",
       "align_content": null,
       "align_items": null,
       "align_self": null,
       "border_bottom": null,
       "border_left": null,
       "border_right": null,
       "border_top": null,
       "bottom": null,
       "display": null,
       "flex": null,
       "flex_flow": null,
       "grid_area": null,
       "grid_auto_columns": null,
       "grid_auto_flow": null,
       "grid_auto_rows": null,
       "grid_column": null,
       "grid_gap": null,
       "grid_row": null,
       "grid_template_areas": null,
       "grid_template_columns": null,
       "grid_template_rows": null,
       "height": null,
       "justify_content": null,
       "justify_items": null,
       "left": null,
       "margin": null,
       "max_height": null,
       "max_width": null,
       "min_height": null,
       "min_width": null,
       "object_fit": null,
       "object_position": null,
       "order": null,
       "overflow": null,
       "padding": null,
       "right": null,
       "top": null,
       "visibility": null,
       "width": null
      }
     },
     "f9659ce4213f404eada57b3f16e7d959": {
      "model_module": "@jupyter-widgets/controls",
      "model_module_version": "2.0.0",
      "model_name": "HTMLModel",
      "state": {
       "_dom_classes": [],
       "_model_module": "@jupyter-widgets/controls",
       "_model_module_version": "2.0.0",
       "_model_name": "HTMLModel",
       "_view_count": null,
       "_view_module": "@jupyter-widgets/controls",
       "_view_module_version": "2.0.0",
       "_view_name": "HTMLView",
       "description": "",
       "description_allow_html": false,
       "layout": "IPY_MODEL_0cacd1e2878940d78daa4113c6854a9c",
       "placeholder": "​",
       "style": "IPY_MODEL_3336a76e6b024bc7861afc116d81833b",
       "tabbable": null,
       "tooltip": null,
       "value": "Loading checkpoint shards: 100%"
      }
     }
    },
    "version_major": 2,
    "version_minor": 0
   }
  }
 },
 "nbformat": 4,
 "nbformat_minor": 2
}
