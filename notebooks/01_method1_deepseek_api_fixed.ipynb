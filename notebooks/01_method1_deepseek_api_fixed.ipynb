{
  "cells": [
    {
      "cell_type": "markdown",
      "source": [
        "# Method 1: DeepSeek API Extraction\n\n## Overview\nCost-effective poster metadata extraction using DeepSeek API. This approach offers the best balance of accuracy and cost for most use cases.\n\n## Accuracy Note\nThe 85-90% accuracy estimate is unvalidated - based on limited testing only. Actual accuracy must be determined through proper Cochran sampling validation before production use.\n\n## Performance Characteristics\n- **Estimated Accuracy**: 85-90% (unvalidated - requires Cochran sampling validation)\n- **Cost**: ~$0.003 per poster (200x cheaper than GPT-4)\n- **Speed**: 5-15 seconds per poster\n- **Hallucination Risk**: Low-Medium (mitigated by structured prompts)\n- **Setup**: Easy - just requires API key\n\n## Best For\n- Production systems with budget constraints\n- High-volume processing\n- Quick prototyping and development"
      ]
    },
    {
      "cell_type": "code",
      "source": [
        "# Imports and setup\nimport os\nimport json\nimport fitz  # PyMuPDF\nfrom pathlib import Path\nfrom datetime import datetime\nfrom typing import Dict, List, Optional, Any\nimport time\nfrom openai import OpenAI\nimport warnings\nfrom dotenv import load_dotenv\nwarnings.filterwarnings(\"ignore\")\n\n# Load environment variables from .env file\nload_dotenv()\n\nprint(\"\u2705 Imports successful\")\nprint(\"\ud83c\udfaf Method 1: DeepSeek API Extraction\")"
      ],
      "execution_count": null,
      "outputs": []
    }
  ],
  "metadata": {
    "language_info": {
      "name": "python"
    }
  },
  "nbformat": 4,
  "nbformat_minor": 2
}